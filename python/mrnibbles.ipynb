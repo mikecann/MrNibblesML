{
 "cells": [
  {
   "cell_type": "markdown",
   "metadata": {},
   "source": [
    "# Unity ML Agents\n",
    "## Proximal Policy Optimization (PPO)\n",
    "Contains an implementation of PPO as described [here](https://arxiv.org/abs/1707.06347)."
   ]
  },
  {
   "cell_type": "code",
   "execution_count": 6,
   "metadata": {
    "collapsed": true
   },
   "outputs": [],
   "source": [
    "import numpy as np\n",
    "import os\n",
    "import tensorflow as tf\n",
    "\n",
    "from ppo.history import *\n",
    "from ppo.models import *\n",
    "from ppo.trainer import Trainer\n",
    "from unityagents import *"
   ]
  },
  {
   "cell_type": "markdown",
   "metadata": {},
   "source": [
    "### Hyperparameters"
   ]
  },
  {
   "cell_type": "code",
   "execution_count": 8,
   "metadata": {
    "collapsed": true
   },
   "outputs": [],
   "source": [
    "### General parameters\n",
    "max_steps = 5e5 # Set maximum number of steps to run environment.\n",
    "run_path = \"mrnibbles/run14-differentrewards\" # The sub-directory name for model and summary statistics\n",
    "load_model = False # Whether to load a saved model.\n",
    "train_model = True # Whether to train the model.\n",
    "summary_freq = 10000 # Frequency at which to save training statistics.\n",
    "save_freq = 50000 # Frequency at which to save model.\n",
    "env_name = \"mrnibbles\" # Name of the training environment file.\n",
    "curriculum_file = None\n",
    "\n",
    "### Algorithm-specific parameters for tuning\n",
    "gamma = 0.99 # Reward discount rate.\n",
    "lambd = 0.95 # Lambda parameter for GAE.\n",
    "time_horizon = 1500 # How many steps to collect per agent before adding to buffer.\n",
    "beta = 1e-3 # Strength of entropy regularization\n",
    "num_epoch = 6 # Number of gradient descent steps per batch of experiences.\n",
    "num_layers = 2 # Number of hidden layers between state/observation encoding and value/policy layers.\n",
    "epsilon = 0.2 # Acceptable threshold around ratio of old and new policy probabilities.\n",
    "buffer_size = 10000 # How large the experience buffer should be before gradient descent.\n",
    "learning_rate = 3e-4 # Model learning rate.\n",
    "hidden_units = 64 # Number of units in hidden layer.\n",
    "batch_size = 2500 # How many experiences per gradient descent update step.\n",
    "normalize = False\n",
    "\n",
    "### Logging dictionary for hyperparameters\n",
    "hyperparameter_dict = {'max_steps':max_steps, 'run_path':run_path, 'env_name':env_name,\n",
    "    'curriculum_file':curriculum_file, 'gamma':gamma, 'lambd':lambd, 'time_horizon':time_horizon,\n",
    "    'beta':beta, 'num_epoch':num_epoch, 'epsilon':epsilon, 'buffe_size':buffer_size,\n",
    "    'leaning_rate':learning_rate, 'hidden_units':hidden_units, 'batch_size':batch_size}"
   ]
  },
  {
   "cell_type": "markdown",
   "metadata": {},
   "source": [
    "### Load the environment"
   ]
  },
  {
   "cell_type": "code",
   "execution_count": 9,
   "metadata": {},
   "outputs": [
    {
     "name": "stderr",
     "output_type": "stream",
     "text": [
      "INFO:unityagents:\n",
      "'Academy' started successfully!\n"
     ]
    },
    {
     "name": "stdout",
     "output_type": "stream",
     "text": [
      "Unity Academy name: Academy\n",
      "        Number of brains: 1\n",
      "        Reset Parameters :\n",
      "\t\t\n",
      "Unity brain name: Brain\n",
      "        Number of observations (per agent): 0\n",
      "        State space type: continuous\n",
      "        State space size (per agent): 1505\n",
      "        Action space type: continuous\n",
      "        Action space size (per agent): 4\n",
      "        Memory space size (per agent): 0\n",
      "        Action descriptions: None, Left, Right, Jumps\n"
     ]
    }
   ],
   "source": [
    "env = UnityEnvironment(file_name=env_name, curriculum=curriculum_file)\n",
    "print(str(env))\n",
    "brain_name = env.external_brain_names[0]"
   ]
  },
  {
   "cell_type": "markdown",
   "metadata": {},
   "source": [
    "### Train the Agent(s)"
   ]
  },
  {
   "cell_type": "code",
   "execution_count": 10,
   "metadata": {
    "scrolled": true
   },
   "outputs": [
    {
     "name": "stdout",
     "output_type": "stream",
     "text": [
      "Step: 10000. Mean Reward: -24.28800000000082. Std of Reward: 9.747511272115132.\n",
      "Step: 20000. Mean Reward: -18.747999999999855. Std of Reward: 4.710118469847556.\n",
      "Step: 30000. Mean Reward: -20.86499999999981. Std of Reward: 4.534999999999902.\n",
      "Step: 40000. Mean Reward: -66.61000000000199. Std of Reward: 23.465490974338696.\n",
      "Step: 50000. Mean Reward: -29.544000000000572. Std of Reward: 9.897402891668872.\n",
      "Saved Model\n",
      "Step: 60000. Mean Reward: -16.468571428571412. Std of Reward: 7.887907433120122.\n",
      "Step: 70000. Mean Reward: -11.288333333333208. Std of Reward: 7.2968027625499134.\n",
      "Step: 80000. Mean Reward: -16.867500000000106. Std of Reward: 11.571585619525623.\n",
      "Step: 90000. Mean Reward: -21.524285714285785. Std of Reward: 11.34048733790729.\n",
      "Step: 100000. Mean Reward: -25.91249999999994. Std of Reward: 3.335576224582802.\n",
      "Saved Model\n",
      "Step: 110000. Mean Reward: -27.468571428571273. Std of Reward: 19.114285180439392.\n",
      "Step: 120000. Mean Reward: -10.029499999999931. Std of Reward: 8.724915744578839.\n",
      "Step: 130000. Mean Reward: -8.332307692307655. Std of Reward: 8.088310324494582.\n",
      "Step: 140000. Mean Reward: -10.182857142857083. Std of Reward: 7.246130095474723.\n",
      "Step: 150000. Mean Reward: -10.647142857142807. Std of Reward: 6.547289619418443.\n",
      "Saved Model\n",
      "Step: 160000. Mean Reward: -14.499999999999922. Std of Reward: 4.648065457800687.\n",
      "Step: 170000. Mean Reward: -45.06999999999761. Std of Reward: 6.959999999998615.\n",
      "Step: 180000. Mean Reward: -13.326153846153751. Std of Reward: 6.930871338785098.\n",
      "Step: 190000. Mean Reward: -13.657333333333243. Std of Reward: 6.399106673764879.\n",
      "Step: 200000. Mean Reward: -9.345555555555517. Std of Reward: 7.353282126009553.\n",
      "Saved Model\n",
      "Step: 210000. Mean Reward: -9.259199999999955. Std of Reward: 7.158371278440394.\n",
      "Step: 220000. Mean Reward: -9.765833333333205. Std of Reward: 7.911909228428326.\n",
      "Step: 230000. Mean Reward: -8.948823529411682. Std of Reward: 7.514987286086061.\n",
      "Step: 240000. Mean Reward: -9.805999999999905. Std of Reward: 8.55759140568576.\n",
      "Step: 250000. Mean Reward: -18.70142857142849. Std of Reward: 7.504330994397204.\n",
      "Saved Model\n",
      "Step: 260000. Mean Reward: -22.98428571428619. Std of Reward: 13.111774269328105.\n",
      "Step: 270000. Mean Reward: -18.24499999999994. Std of Reward: 9.94479135024986.\n",
      "Step: 280000. Mean Reward: -21.314444444444423. Std of Reward: 6.106452163465561.\n",
      "Step: 290000. Mean Reward: -32.49000000000041. Std of Reward: 14.961165284384546.\n",
      "Step: 300000. Mean Reward: -18.28222222222184. Std of Reward: 12.253883536592301.\n",
      "Saved Model\n",
      "Step: 310000. Mean Reward: -14.702222222222288. Std of Reward: 3.093896420652787.\n",
      "Step: 320000. Mean Reward: -22.632500000000306. Std of Reward: 5.088803272872984.\n",
      "Step: 330000. Mean Reward: -25.789999999999925. Std of Reward: 14.561522070168312.\n",
      "Step: 340000. Mean Reward: -25.123333333334227. Std of Reward: 8.602729540998006.\n",
      "Step: 350000. Mean Reward: -49.45999999999674. Std of Reward: 0.0.\n",
      "Saved Model\n",
      "Step: 360000. Mean Reward: -183.09999999998755. Std of Reward: 0.0.\n",
      "Step: 370000. Mean Reward: -60.08999999999895. Std of Reward: 0.0.\n",
      "Step: 380000. Mean Reward: -35.15000000000024. Std of Reward: 12.645550600902743.\n",
      "Step: 390000. Mean Reward: -23.027500000000945. Std of Reward: 4.6209921824216105.\n",
      "Step: 400000. Mean Reward: -65.95500000000911. Std of Reward: 51.88500000000916.\n",
      "Saved Model\n",
      "Step: 410000. Mean Reward: -23.947500000000794. Std of Reward: 4.046747922714564.\n",
      "Step: 420000. Mean Reward: -21.907142857143004. Std of Reward: 3.011879879437935.\n",
      "Step: 430000. Mean Reward: -27.919999999999966. Std of Reward: 6.247155352638609.\n",
      "Step: 440000. Mean Reward: -27.976000000000578. Std of Reward: 13.944966977372474.\n",
      "Step: 450000. Mean Reward: -28.85250000000097. Std of Reward: 11.35631404770089.\n",
      "Saved Model\n",
      "Step: 460000. Mean Reward: -25.632499999999737. Std of Reward: 6.846734166739522.\n",
      "Step: 470000. Mean Reward: -49.32500000000074. Std of Reward: 3.3349999999993365.\n",
      "Step: 480000. Mean Reward: -59.793333333337756. Std of Reward: 31.057486841165513.\n",
      "Step: 490000. Mean Reward: -28.12666666666772. Std of Reward: 7.852160353828246.\n",
      "Step: 500000. Mean Reward: -39.400000000000986. Std of Reward: 7.196440092156977.\n",
      "Saved Model\n",
      "Saved Model\n",
      "INFO:tensorflow:Restoring parameters from ./models/mrnibbles/run14-differentrewards\\model-500001.cptk\n"
     ]
    },
    {
     "name": "stderr",
     "output_type": "stream",
     "text": [
      "INFO:tensorflow:Restoring parameters from ./models/mrnibbles/run14-differentrewards\\model-500001.cptk\n"
     ]
    },
    {
     "name": "stdout",
     "output_type": "stream",
     "text": [
      "INFO:tensorflow:Froze 7 variables.\n"
     ]
    },
    {
     "name": "stderr",
     "output_type": "stream",
     "text": [
      "INFO:tensorflow:Froze 7 variables.\n"
     ]
    },
    {
     "name": "stdout",
     "output_type": "stream",
     "text": [
      "Converted 7 variables to const ops.\n"
     ]
    }
   ],
   "source": [
    "tf.reset_default_graph()\n",
    "\n",
    "if curriculum_file == \"None\":\n",
    "    curriculum_file = None\n",
    "\n",
    "\n",
    "def get_progress():\n",
    "    if curriculum_file is not None:\n",
    "        if env._curriculum.measure_type == \"progress\":\n",
    "            return steps / max_steps\n",
    "        elif env._curriculum.measure_type == \"reward\":\n",
    "            return last_reward\n",
    "        else:\n",
    "            return None\n",
    "    else:\n",
    "        return None\n",
    "\n",
    "# Create the Tensorflow model graph\n",
    "ppo_model = create_agent_model(env, lr=learning_rate,\n",
    "                               h_size=hidden_units, epsilon=epsilon,\n",
    "                               beta=beta, max_step=max_steps, \n",
    "                               normalize=normalize, num_layers=num_layers)\n",
    "\n",
    "is_continuous = (env.brains[brain_name].action_space_type == \"continuous\")\n",
    "use_observations = (env.brains[brain_name].number_observations > 0)\n",
    "use_states = (env.brains[brain_name].state_space_size > 0)\n",
    "\n",
    "model_path = './models/{}'.format(run_path)\n",
    "summary_path = './summaries/{}'.format(run_path)\n",
    "\n",
    "if not os.path.exists(model_path):\n",
    "    os.makedirs(model_path)\n",
    "\n",
    "if not os.path.exists(summary_path):\n",
    "    os.makedirs(summary_path)\n",
    "\n",
    "init = tf.global_variables_initializer()\n",
    "saver = tf.train.Saver()\n",
    "\n",
    "with tf.Session() as sess:\n",
    "    # Instantiate model parameters\n",
    "    if load_model:\n",
    "        print('Loading Model...')\n",
    "        ckpt = tf.train.get_checkpoint_state(model_path)\n",
    "        saver.restore(sess, ckpt.model_checkpoint_path)\n",
    "    else:\n",
    "        sess.run(init)\n",
    "    steps, last_reward = sess.run([ppo_model.global_step, ppo_model.last_reward])    \n",
    "    summary_writer = tf.summary.FileWriter(summary_path)\n",
    "    info = env.reset(train_mode=train_model, progress=get_progress())[brain_name]\n",
    "    trainer = Trainer(ppo_model, sess, info, is_continuous, use_observations, use_states, train_model)\n",
    "    if train_model:\n",
    "        trainer.write_text(summary_writer, 'Hyperparameters', hyperparameter_dict, steps)\n",
    "    while steps <= max_steps:\n",
    "        if env.global_done:\n",
    "            info = env.reset(train_mode=train_model, progress=get_progress())[brain_name]\n",
    "        # Decide and take an action\n",
    "        new_info = trainer.take_action(info, env, brain_name, steps, normalize)\n",
    "        info = new_info\n",
    "        trainer.process_experiences(info, time_horizon, gamma, lambd)\n",
    "        if len(trainer.training_buffer['actions']) > buffer_size and train_model:\n",
    "            # Perform gradient descent with experience buffer\n",
    "            trainer.update_model(batch_size, num_epoch)\n",
    "        if steps % summary_freq == 0 and steps != 0 and train_model:\n",
    "            # Write training statistics to tensorboard.\n",
    "            trainer.write_summary(summary_writer, steps, env._curriculum.lesson_number)\n",
    "        if steps % save_freq == 0 and steps != 0 and train_model:\n",
    "            # Save Tensorflow model\n",
    "            save_model(sess, model_path=model_path, steps=steps, saver=saver)\n",
    "        steps += 1\n",
    "        sess.run(ppo_model.increment_step)\n",
    "        if len(trainer.stats['cumulative_reward']) > 0:\n",
    "            mean_reward = np.mean(trainer.stats['cumulative_reward'])\n",
    "            sess.run(ppo_model.update_reward, feed_dict={ppo_model.new_reward: mean_reward})\n",
    "            last_reward = sess.run(ppo_model.last_reward)\n",
    "    # Final save Tensorflow model\n",
    "    if steps != 0 and train_model:\n",
    "        save_model(sess, model_path=model_path, steps=steps, saver=saver)\n",
    "env.close()\n",
    "export_graph(model_path, env_name)"
   ]
  },
  {
   "cell_type": "markdown",
   "metadata": {},
   "source": [
    "### Export the trained Tensorflow graph\n",
    "Once the model has been trained and saved, we can export it as a .bytes file which Unity can embed."
   ]
  },
  {
   "cell_type": "code",
   "execution_count": null,
   "metadata": {},
   "outputs": [],
   "source": [
    "export_graph(model_path, env_name)"
   ]
  },
  {
   "cell_type": "code",
   "execution_count": 5,
   "metadata": {},
   "outputs": [],
   "source": [
    "env.close()"
   ]
  }
 ],
 "metadata": {
  "anaconda-cloud": {},
  "kernelspec": {
   "display_name": "Python 3",
   "language": "python",
   "name": "python3"
  },
  "language_info": {
   "codemirror_mode": {
    "name": "ipython",
    "version": 3
   },
   "file_extension": ".py",
   "mimetype": "text/x-python",
   "name": "python",
   "nbconvert_exporter": "python",
   "pygments_lexer": "ipython3",
   "version": "3.6.3"
  }
 },
 "nbformat": 4,
 "nbformat_minor": 1
}
